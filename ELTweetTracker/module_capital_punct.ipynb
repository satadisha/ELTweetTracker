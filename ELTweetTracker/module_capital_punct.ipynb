{
 "cells": [
  {
   "cell_type": "code",
   "execution_count": 59,
   "metadata": {
    "collapsed": false,
    "scrolled": true
   },
   "outputs": [
    {
     "name": "stdout",
     "output_type": "stream",
     "text": [
      "['# of RTs', 'HashTags', 'TweetIds', 'Date', 'Replier Ids', 'Retweeted Distinct Ids', 'Tweets', 'Urls in Tweet', 'Username', 'Unnamed: 10', 'Unnamed: 11']\n",
      "U.S. Presidential Election series Trump, Clinton wins big, Rubio... \n",
      "['U.S.', 'Presidential', 'Election', 'series', 'Trump,', 'Clinton', 'wins', 'big,', 'Rubio...']\n"
     ]
    }
   ],
   "source": [
    "import pandas as pd\n",
    "\n",
    "df = pd.read_csv('/home/satadisha/Desktop/GitProjects/ELTweetTracker/Collection of Tweets.csv', index_col='ID', header=0)\n",
    "print df.columns.values.tolist()\n",
    "\n",
    "count=0\n",
    "for index, row in df.iterrows():\n",
    "    if count<1:\n",
    "        tweetText=row['Tweets']\n",
    "        #capitalization module\n",
    "        #if all words are capitalized:\n",
    "        if tweetText.isupper():\n",
    "            print \"All caps module\"\n",
    "        else:\n",
    "            print tweetText\n",
    "            tweetWordList=tweetText.split()\n",
    "            print tweetWordList\n",
    "            #implement the consecutive caps without punctuation clause\n",
    "        count+=1\n",
    "    else:\n",
    "        break"
   ]
  },
  {
   "cell_type": "code",
   "execution_count": null,
   "metadata": {
    "collapsed": true
   },
   "outputs": [],
   "source": []
  },
  {
   "cell_type": "code",
   "execution_count": null,
   "metadata": {
    "collapsed": true
   },
   "outputs": [],
   "source": []
  }
 ],
 "metadata": {
  "kernelspec": {
   "display_name": "Python 2",
   "language": "python",
   "name": "python2"
  },
  "language_info": {
   "codemirror_mode": {
    "name": "ipython",
    "version": 2
   },
   "file_extension": ".py",
   "mimetype": "text/x-python",
   "name": "python",
   "nbconvert_exporter": "python",
   "pygments_lexer": "ipython2",
   "version": "2.7.12"
  }
 },
 "nbformat": 4,
 "nbformat_minor": 1
}
