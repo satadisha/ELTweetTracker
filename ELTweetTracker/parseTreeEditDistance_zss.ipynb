{
 "cells": [
  {
   "cell_type": "code",
   "execution_count": 1,
   "metadata": {
    "collapsed": true
   },
   "outputs": [],
   "source": [
    "import zss"
   ]
  },
  {
   "cell_type": "code",
   "execution_count": 24,
   "metadata": {
    "collapsed": false
   },
   "outputs": [
    {
     "name": "stdout",
     "output_type": "stream",
     "text": [
      "2\n",
      "2\n"
     ]
    }
   ],
   "source": [
    "'''\n",
    "try:\n",
    "    from editdist import distance as strdist\n",
    "except ImportError:\n",
    "    def strdist(a, b):\n",
    "        if a == b:\n",
    "            return 0\n",
    "        else:\n",
    "            return 1\n",
    "            \n",
    "def weird_dist(A, B):\n",
    "    return strdist(A, B)\n",
    "\n",
    "\n",
    "class WeirdNode(object):\n",
    "\n",
    "    def __init__(self, label):\n",
    "        self.my_label = label\n",
    "        self.my_children = list()\n",
    "\n",
    "    @staticmethod\n",
    "    def get_children(node):\n",
    "        return node.my_children\n",
    "\n",
    "    @staticmethod\n",
    "    def get_label(node):\n",
    "        return node.my_label\n",
    "\n",
    "    def addkid(self, node, before=False):\n",
    "        if before:  self.my_children.insert(0, node)\n",
    "        else:   self.my_children.append(node)\n",
    "        return self'''\n",
    "\n",
    "def insert_cost(A):\n",
    "    #print(\"inserting \"+A.my_label)\n",
    "    cost=1\n",
    "    return cost\n",
    "    \n",
    "def remove_cost(A):\n",
    "    #print(\"deleting \"+A.my_label)\n",
    "    cost=1\n",
    "    return cost\n",
    "\n",
    "def update_cost(A,B):\n",
    "    cost=0\n",
    "    if(A.my_label==B.my_label):\n",
    "        cost=0\n",
    "        #print(\"nothing to update\")\n",
    "    else:\n",
    "        cost=1\n",
    "        #print(\"updating \"+A.my_label+\" to \"+B.my_label)\n",
    "    return cost\n",
    "\n",
    "    \n",
    "\n",
    "class parseTreeNode(object):\n",
    "    \n",
    "    def _init_(self, wordID, lemma, posTag, parentID, depRel, nodeID):\n",
    "        self.wordID = wordID\n",
    "        self.lemma = lemma\n",
    "        self.posTag = posTag\n",
    "        self.parentID = parentID\n",
    "        self.depRel = depRel\n",
    "        self.nodeID = nodeID\n",
    "        self.my_children = list()\n",
    "    \n",
    "    def get_children():\n",
    "        return self.my_children\n",
    "    \n",
    "    def get_nodeID():\n",
    "        return self.nodeID\n",
    "    \n",
    "    def get_depRel():\n",
    "        return self.depRel\n",
    "    \n",
    "    def get_parentID():\n",
    "        return self.parentID\n",
    "    \n",
    "    def get_posTag():\n",
    "        return self.posTag\n",
    "    \n",
    "    def get_lemma():\n",
    "        return self.my_lemma\n",
    "    \n",
    "    \n",
    "\n",
    "A = (\n",
    "WeirdNode(\"f\")\n",
    "    .addkid(WeirdNode(\"d\")\n",
    "    .addkid(WeirdNode(\"a\"))\n",
    "    .addkid(WeirdNode(\"c\")\n",
    "        .addkid(WeirdNode(\"b\"))\n",
    "    )\n",
    "    )\n",
    "    .addkid(WeirdNode(\"e\"))\n",
    ")\n",
    "B = (\n",
    "WeirdNode(\"f\")\n",
    "    .addkid(WeirdNode(\"c\")\n",
    "    .addkid(WeirdNode(\"d\")\n",
    "        .addkid(WeirdNode(\"a\"))\n",
    "        .addkid(WeirdNode(\"b\"))\n",
    "    )\n",
    "    )\n",
    "    .addkid(WeirdNode(\"e\"))\n",
    ")\n",
    "\n",
    "dist = zss.simple_distance(A, B, WeirdNode.get_children, WeirdNode.get_label, weird_dist)\n",
    "print (dist)\n",
    "\n",
    "dist = zss.distance(A, B, WeirdNode.get_children, insert_cost, remove_cost, update_cost)\n",
    "\n",
    "print (dist)\n",
    "#assert dist == 20"
   ]
  },
  {
   "cell_type": "code",
   "execution_count": null,
   "metadata": {
    "collapsed": true
   },
   "outputs": [],
   "source": []
  }
 ],
 "metadata": {
  "kernelspec": {
   "display_name": "Python 3",
   "language": "python",
   "name": "python3"
  },
  "language_info": {
   "codemirror_mode": {
    "name": "ipython",
    "version": 3
   },
   "file_extension": ".py",
   "mimetype": "text/x-python",
   "name": "python",
   "nbconvert_exporter": "python",
   "pygments_lexer": "ipython3",
   "version": "3.5.2"
  }
 },
 "nbformat": 4,
 "nbformat_minor": 1
}
