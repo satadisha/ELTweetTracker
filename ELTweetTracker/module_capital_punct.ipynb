{
 "cells": [
  {
   "cell_type": "code",
   "execution_count": 18,
   "metadata": {
    "collapsed": true
   },
   "outputs": [],
   "source": [
    "from pandas import read_csv\n",
    "from itertools import groupby\n",
    "from operator import itemgetter"
   ]
  },
  {
   "cell_type": "code",
   "execution_count": 19,
   "metadata": {
    "collapsed": true
   },
   "outputs": [],
   "source": [
    "def consecutive_cap(tweetWordList_cappos):\n",
    "    output=[]\n",
    "    #identifies consequtive numbers in the sequence\n",
    "    for k, g in groupby(enumerate(tweetWordList_cappos), lambda (i, x): i-x):\n",
    "        output.append(map(itemgetter(1), g))\n",
    "    return output"
   ]
  },
  {
   "cell_type": "code",
   "execution_count": 20,
   "metadata": {
    "collapsed": false
   },
   "outputs": [],
   "source": [
    "#%%timeit -o\n",
    "def f(x,tweetWordList):\n",
    "    '''phrase=\"\"\n",
    "    for word in x[:-1]:\n",
    "        phrase+=tweetWordList[word]+\" \"\n",
    "    phrase+=tweetWordList[x[-1]]'''\n",
    "    \n",
    "    list1=map(lambda word: tweetWordList[word]+\" \" , x[:-1])\n",
    "    phrase=\"\".join(list1)+tweetWordList[x[-1]]\n",
    "    return phrase"
   ]
  },
  {
   "cell_type": "code",
   "execution_count": 21,
   "metadata": {
    "collapsed": false
   },
   "outputs": [],
   "source": [
    "df = read_csv('/home/satadisha/Desktop/GitProjects/ELTweetTracker/Collection of Tweets.csv', index_col='ID', header=0)\n",
    "#print df.columns.values.tolist()"
   ]
  },
  {
   "cell_type": "code",
   "execution_count": 23,
   "metadata": {
    "collapsed": false,
    "scrolled": true
   },
   "outputs": [
    {
     "name": "stdout",
     "output_type": "stream",
     "text": [
      "['U.S. Presidential Election', 'Trump, Clinton', 'Rubio...']\n"
     ]
    }
   ],
   "source": [
    "#%%timeit -o\n",
    "count=0\n",
    "for index, row in df.iterrows():\n",
    "    if count<1:\n",
    "        tweetText=row['Tweets']\n",
    "        #capitalization module\n",
    "        #if all words are capitalized:\n",
    "        if tweetText.isupper():\n",
    "            print \"All caps module\"\n",
    "        else:\n",
    "            #returns word list split at whitespaces; retains punctuation\n",
    "            tweetWordList=tweetText.split()\n",
    "            #print [j for (i, j) in enumerate(tweetWordList)]\n",
    "            \n",
    "            #returns position of words that are capitalized\n",
    "            tweetWordList_cappos = map(lambda (index, word) : index, filter(lambda (index, word) : word[0].isupper(), enumerate(tweetWordList)))\n",
    "            #print tweetWordList_cappos\n",
    "            output= consecutive_cap(tweetWordList_cappos)\n",
    "            \n",
    "            #consecutive capitalized phrases\n",
    "            consecutive_cap_phrases=map(lambda x: f(x,tweetWordList), output)\n",
    "            print consecutive_cap_phrases\n",
    "            \n",
    "            \n",
    "            '''#implement the punctuation clause'''\n",
    "            \n",
    "        count+=1\n",
    "    else:\n",
    "        break"
   ]
  },
  {
   "cell_type": "code",
   "execution_count": null,
   "metadata": {
    "collapsed": true
   },
   "outputs": [],
   "source": []
  }
 ],
 "metadata": {
  "kernelspec": {
   "display_name": "Python 2",
   "language": "python",
   "name": "python2"
  },
  "language_info": {
   "codemirror_mode": {
    "name": "ipython",
    "version": 2
   },
   "file_extension": ".py",
   "mimetype": "text/x-python",
   "name": "python",
   "nbconvert_exporter": "python",
   "pygments_lexer": "ipython2",
   "version": "2.7.12"
  }
 },
 "nbformat": 4,
 "nbformat_minor": 1
}
