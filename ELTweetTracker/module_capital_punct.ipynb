{
 "cells": [
  {
   "cell_type": "code",
   "execution_count": 13,
   "metadata": {
    "collapsed": false
   },
   "outputs": [],
   "source": [
    "import sys\n",
    "import re\n",
    "from pandas import read_csv\n",
    "from itertools import groupby\n",
    "from operator import itemgetter\n",
    "from collections import Iterable\n",
    "from nltk.corpus import stopwords\n",
    "import NE_candidate_module as ne\n"
   ]
  },
  {
   "cell_type": "code",
   "execution_count": 14,
   "metadata": {
    "collapsed": true
   },
   "outputs": [],
   "source": [
    "cachedStopWords = set(stopwords.words(\"english\"))\n",
    "cachedStopWords.update((\"and\",\"i\",\"i'll\",\"i've\",\"i'm\",\"a\",\"so\",\"arn't\",\"this\",\"when\",\"it\",\"many\",\"can't\",\"cant\",\"yes\",\"no\",\"these\"))\n",
    "cachedTitles = [\"Mr.\",\"Mr\",\"Mrs.\",\"Mrs\",\"Miss\",\"Ms\"]"
   ]
  },
  {
   "cell_type": "code",
   "execution_count": 15,
   "metadata": {
    "collapsed": false
   },
   "outputs": [],
   "source": [
    "def printList(mylist):\n",
    "    print(\"[\"),\n",
    "    #print \"[\",\n",
    "    for item in mylist:\n",
    "        if item != None:\n",
    "            if isinstance(item,ne.NE_candidate):\n",
    "                item.print_obj()\n",
    "            else:\n",
    "                print (item+\",\"),\n",
    "                #print item+\",\",\n",
    "    #print \"]\"\n",
    "    print(\"]\")"
   ]
  },
  {
   "cell_type": "code",
   "execution_count": 16,
   "metadata": {
    "collapsed": false
   },
   "outputs": [],
   "source": [
    "def flatten(mylist, outlist,ignore_types=(str, bytes, ne.NE_candidate)):\n",
    "    \n",
    "    if mylist !=[]:\n",
    "        for item in mylist:\n",
    "            #print not isinstance(item, ne.NE_candidate)\n",
    "            if isinstance(item, list) and not isinstance(item, ignore_types):\n",
    "                flatten(item, outlist)\n",
    "            else:\n",
    "                if isinstance(item,ne.NE_candidate):\n",
    "                    item.phraseText=item.phraseText.strip(' \\t\\n\\r')\n",
    "                    item.reset_length()\n",
    "                else:\n",
    "                    item=item.strip(' \\t\\n\\r')\n",
    "                outlist.append(item)\n",
    "    return outlist"
   ]
  },
  {
   "cell_type": "code",
   "execution_count": 17,
   "metadata": {
    "collapsed": false
   },
   "outputs": [],
   "source": [
    "def consecutive_cap(tweetWordList_cappos):\n",
    "    output=[]\n",
    "    #identifies consecutive numbers in the sequence\n",
    "    for k, g in groupby(enumerate(tweetWordList_cappos), lambda element: element[0]-element[1]):\n",
    "        output.append(list(map(itemgetter(1), g)))\n",
    "    return output"
   ]
  },
  {
   "cell_type": "code",
   "execution_count": 18,
   "metadata": {
    "collapsed": false
   },
   "outputs": [],
   "source": [
    "#basically splitting the original NE_candidate text and building individual object from each text snippet\n",
    "def build_custom_NE(phrase,prototype,feature_index,feature_value):\n",
    "    custom_NE= ne.NE_candidate(phrase)\n",
    "    custom_NE.features=prototype.features\n",
    "    custom_NE.set_feature(feature_index,feature_value)\n",
    "    return custom_NE"
   ]
  },
  {
   "cell_type": "code",
   "execution_count": 19,
   "metadata": {
    "collapsed": false
   },
   "outputs": [],
   "source": [
    "def abbrv_algo(ne_element):\n",
    "    '''abbreviation algorithm \n",
    "    trailing apostrophe:\n",
    "           |period:\n",
    "           |     multiple letter-period sequence:\n",
    "           |         all caps\n",
    "           | non period:\n",
    "           |     ?/! else drop apostrophe\n",
    "    else:\n",
    "        unchanged\n",
    "    '''\n",
    "    phrase= ne_element.phraseText\n",
    "    #since no further split occurs we can set remaining features now\n",
    "    ne_element.set_feature(ne.capitalized, True)\n",
    "    if ne_element.phraseText.isupper():\n",
    "        ne_element.set_feature(ne.all_capitalized, True)\n",
    "    else:\n",
    "        ne_element.set_feature(ne.all_capitalized, False)\n",
    "        \n",
    "    abbreviation_flag=False\n",
    "    p=re.compile(r'[^a-zA-Z\\d\\s]$')\n",
    "    match_list = p.findall(phrase)\n",
    "    if len(match_list)>0:\n",
    "        if phrase.endswith('.'):\n",
    "            p1= re.compile(r'([a-zA-Z][\\.]\\s*)')\n",
    "            match_list = p1.findall(phrase)\n",
    "            if len(match_list)>1:\n",
    "                #print \"Found abbreviation: \"+phrase\n",
    "                abbreviation_flag= True\n",
    "            else:\n",
    "                phrase= phrase[:-1]\n",
    "        else:\n",
    "            if not (phrase.endswith('?')|phrase.endswith('!')):\n",
    "                phrase= phrase[:-1]\n",
    "    else:\n",
    "        p2=re.compile(r'[^a-zA-Z0-9_\\s]')\n",
    "        match_list = p.findall(phrase)\n",
    "        if ((len(match_list)==0) & (phrase.isupper())):\n",
    "            #print \"Found abbreviation: \"+phrase\n",
    "            abbreviation_flag= True\n",
    "        '''elif len(match_list)==1:\n",
    "            print phrase'''\n",
    "            \n",
    "    ne_element.phraseText=phrase\n",
    "    ne_element.reset_length()\n",
    "    ne_element.set_feature(ne.abbreviation, abbreviation_flag)\n",
    "    return ne_element\n",
    "    "
   ]
  },
  {
   "cell_type": "code",
   "execution_count": 20,
   "metadata": {
    "collapsed": false
   },
   "outputs": [],
   "source": [
    "def punct_clause(NE_phrases):\n",
    "    \n",
    "    cap_phrases=NE_phrases.phraseText.strip()\n",
    "    #print (cap_phrases)\n",
    "    if (re.compile(r'[^a-zA-Z0-9_\\s]')).findall(cap_phrases):\n",
    "        #case of intermediate punctuations: handles abbreviations\n",
    "        p1= re.compile(r'(?:[a-zA-Z0-9][^a-zA-Z0-9_\\s]\\s*)')\n",
    "        match_lst = p1.findall(cap_phrases)\n",
    "        \n",
    "\n",
    "        index= (list( p1.finditer(cap_phrases) )[-1]).span()[1]\n",
    "        p= re.compile(r'[^a-zA-Z\\d\\s]')\n",
    "        match_list = p.findall(cap_phrases)\n",
    "\n",
    "        p2=re.compile(r'[^a-zA-Z\\d\\s]$') #ends with punctuation\n",
    "\n",
    "        if len(match_list)-len(match_lst)>0:\n",
    "            if (p2.findall(cap_phrases)):\n",
    "                #only strips trailing punctuations, not intermediate ones following letters\n",
    "                cap_phrases = cap_phrases[0:index]+re.sub(p, '', cap_phrases[index:])\n",
    "                NE_phrases.phraseText= cap_phrases\n",
    "        \n",
    "    \n",
    "    #comma separated NEs\n",
    "    #lst=filter(lambda(word): word!=\"\", re.split('[,]', cap_phrases))\n",
    "    lst=list(filter(lambda word: word!=\"\", re.split('[,]', cap_phrases)))\n",
    "    if len(lst)>1:\n",
    "        #print \"True\"\n",
    "        final_lst= list(map(lambda phrase:build_custom_NE(phrase,NE_phrases,ne.is_csl,True), lst))\n",
    "    else:\n",
    "        NE_phrases.set_feature(ne.is_csl,False)\n",
    "        final_lst=[NE_phrases]\n",
    "    \n",
    "    #check abbreviation\n",
    "    final_lst= list(map(lambda phrase: abbrv_algo(phrase), final_lst))\n",
    "\n",
    "    \n",
    "    #print(lst)\n",
    "    return final_lst"
   ]
  },
  {
   "cell_type": "code",
   "execution_count": 21,
   "metadata": {
    "collapsed": true
   },
   "outputs": [],
   "source": [
    "def title_check(ne_phrase):\n",
    "    title_flag=False\n",
    "    words=ne_phrase.phraseText.split()\n",
    "    for word in words:\n",
    "        if word in cachedTitles:\n",
    "            title_flag= True\n",
    "            break\n",
    "    ne_phrase.set_feature(ne.title,title_flag)\n",
    "    return ne_phrase"
   ]
  },
  {
   "cell_type": "code",
   "execution_count": 22,
   "metadata": {
    "collapsed": false
   },
   "outputs": [
    {
     "data": {
      "text/plain": [
       "'def check(word):\\n    p=re.compile(r\\'([a-zA-Z])\\')\\n    match_lst = p.findall(word)\\n    if len(match_lst)==0:\\n            print word+ str(len(match_lst))\\n            return \"\"\\n    else:\\n        return word+\" \"'"
      ]
     },
     "execution_count": 22,
     "metadata": {},
     "output_type": "execute_result"
    }
   ],
   "source": [
    "'''def check(word):\n",
    "    p=re.compile(r'([a-zA-Z])')\n",
    "    match_lst = p.findall(word)\n",
    "    if len(match_lst)==0:\n",
    "            print word+ str(len(match_lst))\n",
    "            return \"\"\n",
    "    else:\n",
    "        return word+\" \"'''"
   ]
  },
  {
   "cell_type": "code",
   "execution_count": 23,
   "metadata": {
    "collapsed": false
   },
   "outputs": [],
   "source": [
    "#%%timeit -o\n",
    "def f(x,tweetWordList):\n",
    "\n",
    "    #list1=map(lambda word: check(tweetWordList[word], word), x)\n",
    "    list1=list(map(lambda word: tweetWordList[word]+\" \", x[:-1]))\n",
    "    phrase=\"\".join(list1)+tweetWordList[x[-1]]\n",
    "    '''if phrase==\"\":\n",
    "        print \"JUST_DIGIT_ERROR\"\n",
    "        phrase=\"JUST_DIGIT_ERROR\"'''\n",
    "\n",
    "    NE_phrase= ne.NE_candidate(phrase.strip())\n",
    "    if 0 in x:\n",
    "        NE_phrase.set_feature(ne.start_of_sentence,True)\n",
    "    #else:\n",
    "     #   NE_phrase.set_feature(ne.start_of_sentence,False)\n",
    "\n",
    "    return NE_phrase"
   ]
  },
  {
   "cell_type": "code",
   "execution_count": 30,
   "metadata": {
    "collapsed": false
   },
   "outputs": [
    {
     "name": "stdout",
     "output_type": "stream",
     "text": [
      "U.S.  Presidential Election series Trump, Clinton,Obama wins big, Rubio...?\n",
      "[\n",
      "U.S. Presidential Election 3 True True False False False False \n",
      "Trump 1 True None False False True False \n",
      "Clinton 1 True None False False True False \n",
      "Obama 1 True None False False True False \n",
      "Rubio 1 True None False False False False \n",
      "]\n",
      "\n",
      "If Trump wins the presidential election, I'll make a logo for whoever RTs this tweet.\n",
      "[\n",
      "If Trump 2 True True False False False False \n",
      "RTs 1 True None False False False False \n",
      "]\n",
      "\n",
      "Insanely Accurate' Election Model Has Been Wrong Only Once Since 1912. Guess Who It Says is The Winner?\n",
      "[\n",
      "Insanely Accurate' Election Model Has Been Wrong Only Once Since 10 True True False False False False \n",
      "Guess Who It Says 4 True None False False False False \n",
      "The Winner? 2 True None False False False False \n",
      "]\n",
      "\n",
      "If you're eligible to vote in the US Presidential Election, make sure you hit up the polls TODAY \n",
      "[\n",
      "US Presidential Election 3 True None False False False False \n",
      "TODAY 1 True None True True False False \n",
      "]\n",
      "\n",
      "Trump’s “rigged election” claims aren’t new. Conservatives have waged war on electoral democracy since its inception\n",
      "[\n",
      "Trump’s 1 True True False False False False \n",
      "Conservatives 1 True None False False False False \n",
      "]\n",
      "\n",
      "Donald Trump got his Twitter confiscated and Obama destroyed him over it\n",
      "[\n",
      "Donald Trump 2 True True False False False False \n",
      "Twitter 1 True None False False False False \n",
      "Obama 1 True None False False False False \n",
      "]\n",
      "\n",
      "This is the 5th time I voted in a presidential election, but the 1st time I voted with my vagina\n",
      "\n",
      "And now there's a pen stuck in there. Fuck\n",
      "[\n",
      "Fuck 1 True None False False False False \n",
      "]\n",
      "\n",
      "BREAKING: Sources say if Jim Harbaugh wins Presidential election (write-in candidate), he'll anoint Don Brown as Secretary of Defense\n",
      "[\n",
      "BREAKING: Sources 2 True True False False False False \n",
      "Jim Harbaugh 2 True None False False False False \n",
      "Presidential 1 True None False False False False \n",
      "Don Brown 2 True None False False False False \n",
      "Secretary 1 True None False False False False \n",
      "Defense 1 True None False False False False \n",
      "]\n",
      "\n",
      "What You Wore on Election Day\n",
      "[\n",
      "What You Wore 3 True True False False False False \n",
      "Election Day 2 True None False False False False \n",
      "]\n",
      "\n",
      "\"I can say without doubt that the 2016 U.S. Presidential election is the worst video game I’ve ever played. \"\n",
      "[\n",
      "U.S. Presidential 2 True None False False False False \n",
      "I’ve 1 True None False False False False \n",
      "]\n",
      "\n",
      "I'm gonna be pissed if Hillary Clinton wins the presidential election, and that's all I gotta say.\n",
      "[\n",
      "Hillary Clinton 2 True None False False False False \n",
      "]\n",
      "\n",
      "Third-Party Exit Poll Results: How Are Gary Johnson\n",
      "[\n",
      "Third-Party Exit Poll Results: How Are Gary Johnson 8 True True False False False False \n",
      "]\n",
      "\n",
      "When I said “third time voting here”, I meant third Presidential election (since 2008) — not “third time” voting TO…\n",
      "[\n",
      "When I 2 True True False False False False \n",
      "Presidential 1 True None False False False False \n",
      "TO 1 True None False True False False \n",
      "]\n",
      "\n",
      "\"And the winner of the 2016 presidential election is... Donald Trump\"\n",
      "Immigrants: \n",
      "[\n",
      "Donald Trump 2 True None False False False False \n",
      "Immigrants 1 True True False False False False \n",
      "]\n",
      "\n",
      "Mrs. T.H. Fresdahl, 82, who \"never missed voting in a presidential election since woman suffrage became effective\"…\n",
      "[\n",
      "Mrs. T.H. Fresdahl 3 True True False False False True \n",
      "]\n",
      "\n",
      "ABC News presidential election results map\n",
      "[\n",
      "ABC News 2 True True False False False False \n",
      "]\n",
      "\n",
      "Most undercovered story of 2016: today is 1st presidential election in 50 years without full protections of Voting…\n",
      "[\n",
      "Voting 1 True None False False False False \n",
      "]\n",
      "\n",
      "Love how America is waiting for the presidential election and we're waiting to watch celebrities eat kangaroo bollocks again\n",
      "[\n",
      "Love 1 True True False False False False \n",
      "America 1 True None False False False False \n",
      "]\n",
      "\n",
      "Hypothetical Presidential Election:\n",
      "[\n",
      "Hypothetical Presidential Election 3 True True False False False False \n",
      "]\n",
      "\n",
      "Donald Trump's reckless foreign policy could unleash chaos\n",
      "[\n",
      "Donald Trump's 2 True True False False False False \n",
      "]\n",
      "\n"
     ]
    }
   ],
   "source": [
    "'''This is the main module. I am not explicitly writing it as a function as I am not sure what argument you are \n",
    "passing.However you can call this whole cell as a function and it will call the rest of the functions in my module\n",
    "to extract candidates and features\n",
    "'''\n",
    "\n",
    "'''#reads input from the database file and converts to a dataframe. You can change this part accordingly and\n",
    "#directly convert argument tuple to the dataframe'''\n",
    "\n",
    "df = read_csv('/home/satadisha/Desktop/GitProjects/ELTweetTracker/Collection.csv', index_col='ID', header=0, encoding='utf-8')\n",
    "#print df.columns.values.tolist()\n",
    "\n",
    "#%%timeit -o\n",
    "#module_capital_punct.main:\n",
    "'''I am running this for 100 iterations for testing purposes. Of course you no longer need this for loop as you are\n",
    "#running one tuple at a time'''\n",
    "\n",
    "count=0\n",
    "for index, row in df.iterrows():\n",
    "    \n",
    "    if count<20:\n",
    "        #tweetText=unicode(row['Tweets']).encode('utf-8')\n",
    "        tweetText=str(row['Tweets'])\n",
    "        #tweetText=row['Tweets']\n",
    "        print(tweetText)\n",
    "        #capitalization module\n",
    "        #if all words are capitalized:\n",
    "        if tweetText.isupper():\n",
    "            #print \"All caps module\"\n",
    "            print (\"All caps module\")\n",
    "        else:\n",
    "            ne_List_final=[]\n",
    "            #returns word list split at whitespaces; retains punctuation\n",
    "            tweetSentenceList=list(filter (lambda sentence: len(sentence)>0, tweetText.split('\\n')))\n",
    "            for sentence in tweetSentenceList:\n",
    "                tweetWordList= sentence.split()\n",
    "                #print (tweetWordList)\n",
    "                #returns position of words that are capitalized\n",
    "                tweetWordList_cappos = list(map(lambda element : element[0], filter(lambda element : element[1][0].isupper(), enumerate(tweetWordList))))\n",
    "\n",
    "                #tweetWordList_cappos = map(lambda (index, word) : index, filter(lambda (index, word) : word[0].isupper()|word[0].isdigit(), enumerate(tweetWordList)))\n",
    "                #returns list with position of consecutively capitalized words\n",
    "                output = consecutive_cap(tweetWordList_cappos)\n",
    "                #print (output)\n",
    "\n",
    "                #consecutive capitalized phrases\n",
    "                consecutive_cap_phrases_wStopwords=list(map(lambda x: f(x,tweetWordList), output))\n",
    "                consecutive_cap_phrases=filter(lambda phrase: phrase.phraseText.lower() not in cachedStopWords ,consecutive_cap_phrases_wStopwords)\n",
    "                #printList(flatten(consecutive_cap_phrases,[]))\n",
    "\n",
    "                #implement the punctuation clause\n",
    "                ne_List_pc=flatten(list(map(lambda NE_phrase: punct_clause(NE_phrase), consecutive_cap_phrases)),[])\n",
    "                \n",
    "                #implement title detection\n",
    "                ne_List= list(map(lambda element: title_check(element), ne_List_pc))\n",
    "                ne_List_final+=ne_List\n",
    "                \n",
    "            printList(ne_List_final)\n",
    "            print (\"\")\n",
    "        count+=1\n",
    "    else:\n",
    "        break\n",
    "\n"
   ]
  },
  {
   "cell_type": "code",
   "execution_count": null,
   "metadata": {
    "collapsed": true
   },
   "outputs": [],
   "source": []
  },
  {
   "cell_type": "code",
   "execution_count": null,
   "metadata": {
    "collapsed": true
   },
   "outputs": [],
   "source": []
  }
 ],
 "metadata": {
  "kernelspec": {
   "display_name": "Python 3",
   "language": "python",
   "name": "python3"
  },
  "language_info": {
   "codemirror_mode": {
    "name": "ipython",
    "version": 3
   },
   "file_extension": ".py",
   "mimetype": "text/x-python",
   "name": "python",
   "nbconvert_exporter": "python",
   "pygments_lexer": "ipython3",
   "version": "3.5.2"
  }
 },
 "nbformat": 4,
 "nbformat_minor": 1
}
